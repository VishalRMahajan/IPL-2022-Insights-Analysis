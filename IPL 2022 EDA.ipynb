{
 "cells": [
  {
   "cell_type": "markdown",
   "id": "cef6b7df",
   "metadata": {},
   "source": [
    "### Importing libraries\n",
    "Importing Libraries required for Project such **pandas**,**numpy**,**matplotlib**,**seaborn** and using\n",
    "\"**%matplotlib inline command**\" - a magic command that allows the output of plotting commands to be displayed directly below the code cell that produced it"
   ]
  },
  {
   "cell_type": "code",
   "execution_count": 1,
   "id": "4ca4ec98",
   "metadata": {},
   "outputs": [],
   "source": [
    "import pandas as pd\n",
    "import numpy as np\n",
    "import matplotlib.pyplot as plt\n",
    "import seaborn as sns\n",
    "%matplotlib inline"
   ]
  },
  {
   "cell_type": "markdown",
   "id": "f7783dc4",
   "metadata": {},
   "source": [
    "### Loading Dataset\n",
    "I have [**IPL 2022 Dataset**](https://www.kaggle.com/datasets/aravindas01/ipl-2022dataset/data) from Kaggle in CSV format. The dataset was loaded into a DataFrame using the Pandas `read_csv()` function."
   ]
  },
  {
   "cell_type": "code",
   "execution_count": 2,
   "id": "d249909b",
   "metadata": {
    "scrolled": false
   },
   "outputs": [
    {
     "data": {
      "text/html": [
       "<div>\n",
       "<style scoped>\n",
       "    .dataframe tbody tr th:only-of-type {\n",
       "        vertical-align: middle;\n",
       "    }\n",
       "\n",
       "    .dataframe tbody tr th {\n",
       "        vertical-align: top;\n",
       "    }\n",
       "\n",
       "    .dataframe thead th {\n",
       "        text-align: right;\n",
       "    }\n",
       "</style>\n",
       "<table border=\"1\" class=\"dataframe\">\n",
       "  <thead>\n",
       "    <tr style=\"text-align: right;\">\n",
       "      <th></th>\n",
       "      <th>match_id</th>\n",
       "      <th>date</th>\n",
       "      <th>venue</th>\n",
       "      <th>team1</th>\n",
       "      <th>team2</th>\n",
       "      <th>stage</th>\n",
       "      <th>toss_winner</th>\n",
       "      <th>toss_decision</th>\n",
       "      <th>first_ings_score</th>\n",
       "      <th>first_ings_wkts</th>\n",
       "      <th>second_ings_score</th>\n",
       "      <th>second_ings_wkts</th>\n",
       "      <th>match_winner</th>\n",
       "      <th>won_by</th>\n",
       "      <th>margin</th>\n",
       "      <th>player_of_the_match</th>\n",
       "      <th>top_scorer</th>\n",
       "      <th>highscore</th>\n",
       "      <th>best_bowling</th>\n",
       "      <th>best_bowling_figure</th>\n",
       "    </tr>\n",
       "  </thead>\n",
       "  <tbody>\n",
       "    <tr>\n",
       "      <th>0</th>\n",
       "      <td>1</td>\n",
       "      <td>March 26,2022</td>\n",
       "      <td>Wankhede Stadium, Mumbai</td>\n",
       "      <td>Chennai</td>\n",
       "      <td>Kolkata</td>\n",
       "      <td>Group</td>\n",
       "      <td>Kolkata</td>\n",
       "      <td>Field</td>\n",
       "      <td>131</td>\n",
       "      <td>5</td>\n",
       "      <td>133</td>\n",
       "      <td>4</td>\n",
       "      <td>Kolkata</td>\n",
       "      <td>Wickets</td>\n",
       "      <td>6</td>\n",
       "      <td>Umesh Yadav</td>\n",
       "      <td>MS Dhoni</td>\n",
       "      <td>50</td>\n",
       "      <td>Dwayne Bravo</td>\n",
       "      <td>3--20</td>\n",
       "    </tr>\n",
       "    <tr>\n",
       "      <th>1</th>\n",
       "      <td>2</td>\n",
       "      <td>March 27,2022</td>\n",
       "      <td>Brabourne Stadium, Mumbai</td>\n",
       "      <td>Delhi</td>\n",
       "      <td>Mumbai</td>\n",
       "      <td>Group</td>\n",
       "      <td>Delhi</td>\n",
       "      <td>Field</td>\n",
       "      <td>177</td>\n",
       "      <td>5</td>\n",
       "      <td>179</td>\n",
       "      <td>6</td>\n",
       "      <td>Delhi</td>\n",
       "      <td>Wickets</td>\n",
       "      <td>4</td>\n",
       "      <td>Kuldeep Yadav</td>\n",
       "      <td>Ishan Kishan</td>\n",
       "      <td>81</td>\n",
       "      <td>Kuldeep Yadav</td>\n",
       "      <td>3--18</td>\n",
       "    </tr>\n",
       "    <tr>\n",
       "      <th>2</th>\n",
       "      <td>3</td>\n",
       "      <td>March 27,2022</td>\n",
       "      <td>Dr DY Patil Sports Academy, Mumbai</td>\n",
       "      <td>Banglore</td>\n",
       "      <td>Punjab</td>\n",
       "      <td>Group</td>\n",
       "      <td>Punjab</td>\n",
       "      <td>Field</td>\n",
       "      <td>205</td>\n",
       "      <td>2</td>\n",
       "      <td>208</td>\n",
       "      <td>5</td>\n",
       "      <td>Punjab</td>\n",
       "      <td>Wickets</td>\n",
       "      <td>5</td>\n",
       "      <td>Odean Smith</td>\n",
       "      <td>Faf du Plessis</td>\n",
       "      <td>88</td>\n",
       "      <td>Mohammed Siraj</td>\n",
       "      <td>2--59</td>\n",
       "    </tr>\n",
       "    <tr>\n",
       "      <th>3</th>\n",
       "      <td>4</td>\n",
       "      <td>March 28,2022</td>\n",
       "      <td>Wankhede Stadium, Mumbai</td>\n",
       "      <td>Gujarat</td>\n",
       "      <td>Lucknow</td>\n",
       "      <td>Group</td>\n",
       "      <td>Gujarat</td>\n",
       "      <td>Field</td>\n",
       "      <td>158</td>\n",
       "      <td>6</td>\n",
       "      <td>161</td>\n",
       "      <td>5</td>\n",
       "      <td>Gujarat</td>\n",
       "      <td>Wickets</td>\n",
       "      <td>5</td>\n",
       "      <td>Mohammed Shami</td>\n",
       "      <td>Deepak Hooda</td>\n",
       "      <td>55</td>\n",
       "      <td>Mohammed Shami</td>\n",
       "      <td>3--25</td>\n",
       "    </tr>\n",
       "    <tr>\n",
       "      <th>4</th>\n",
       "      <td>5</td>\n",
       "      <td>March 29,2022</td>\n",
       "      <td>Maharashtra Cricket Association Stadium,Pune</td>\n",
       "      <td>Hyderabad</td>\n",
       "      <td>Rajasthan</td>\n",
       "      <td>Group</td>\n",
       "      <td>Hyderabad</td>\n",
       "      <td>Field</td>\n",
       "      <td>210</td>\n",
       "      <td>6</td>\n",
       "      <td>149</td>\n",
       "      <td>7</td>\n",
       "      <td>Rajasthan</td>\n",
       "      <td>Runs</td>\n",
       "      <td>61</td>\n",
       "      <td>Sanju Samson</td>\n",
       "      <td>Aiden Markram</td>\n",
       "      <td>57</td>\n",
       "      <td>Yuzvendra Chahal</td>\n",
       "      <td>3--22</td>\n",
       "    </tr>\n",
       "  </tbody>\n",
       "</table>\n",
       "</div>"
      ],
      "text/plain": [
       "   match_id           date                                         venue  \\\n",
       "0         1  March 26,2022                      Wankhede Stadium, Mumbai   \n",
       "1         2  March 27,2022                     Brabourne Stadium, Mumbai   \n",
       "2         3  March 27,2022            Dr DY Patil Sports Academy, Mumbai   \n",
       "3         4  March 28,2022                      Wankhede Stadium, Mumbai   \n",
       "4         5  March 29,2022  Maharashtra Cricket Association Stadium,Pune   \n",
       "\n",
       "       team1      team2  stage toss_winner toss_decision  first_ings_score  \\\n",
       "0    Chennai    Kolkata  Group     Kolkata         Field               131   \n",
       "1      Delhi     Mumbai  Group       Delhi         Field               177   \n",
       "2   Banglore     Punjab  Group      Punjab         Field               205   \n",
       "3    Gujarat    Lucknow  Group     Gujarat         Field               158   \n",
       "4  Hyderabad  Rajasthan  Group   Hyderabad         Field               210   \n",
       "\n",
       "   first_ings_wkts  second_ings_score  second_ings_wkts match_winner   won_by  \\\n",
       "0                5                133                 4      Kolkata  Wickets   \n",
       "1                5                179                 6        Delhi  Wickets   \n",
       "2                2                208                 5       Punjab  Wickets   \n",
       "3                6                161                 5      Gujarat  Wickets   \n",
       "4                6                149                 7    Rajasthan     Runs   \n",
       "\n",
       "   margin player_of_the_match      top_scorer  highscore      best_bowling  \\\n",
       "0       6         Umesh Yadav        MS Dhoni         50      Dwayne Bravo   \n",
       "1       4       Kuldeep Yadav    Ishan Kishan         81     Kuldeep Yadav   \n",
       "2       5         Odean Smith  Faf du Plessis         88    Mohammed Siraj   \n",
       "3       5      Mohammed Shami    Deepak Hooda         55    Mohammed Shami   \n",
       "4      61        Sanju Samson   Aiden Markram         57  Yuzvendra Chahal   \n",
       "\n",
       "  best_bowling_figure  \n",
       "0               3--20  \n",
       "1               3--18  \n",
       "2               2--59  \n",
       "3               3--25  \n",
       "4               3--22  "
      ]
     },
     "execution_count": 2,
     "metadata": {},
     "output_type": "execute_result"
    }
   ],
   "source": [
    "df=pd.read_csv('Book_ipl22_ver_33.csv')\n",
    "df.head()"
   ]
  },
  {
   "cell_type": "markdown",
   "id": "e6514c88",
   "metadata": {},
   "source": [
    "### Column Overview (df.columns)\n",
    "Here, I listed all the column names present in the DataFrame using the `columns` attribute."
   ]
  },
  {
   "cell_type": "code",
   "execution_count": 3,
   "id": "52ee84f6",
   "metadata": {
    "scrolled": false
   },
   "outputs": [
    {
     "data": {
      "text/plain": [
       "Index(['match_id', 'date', 'venue', 'team1', 'team2', 'stage', 'toss_winner',\n",
       "       'toss_decision', 'first_ings_score', 'first_ings_wkts',\n",
       "       'second_ings_score', 'second_ings_wkts', 'match_winner', 'won_by',\n",
       "       'margin', 'player_of_the_match', 'top_scorer', 'highscore',\n",
       "       'best_bowling', 'best_bowling_figure'],\n",
       "      dtype='object')"
      ]
     },
     "execution_count": 3,
     "metadata": {},
     "output_type": "execute_result"
    }
   ],
   "source": [
    "df.columns"
   ]
  },
  {
   "cell_type": "markdown",
   "id": "7fe60963",
   "metadata": {},
   "source": [
    "### Dataset Information (df.info())\n",
    "Here, I displayed a summary of the DataFrame, including data types, non-null counts, and memory usage using `df.info` method"
   ]
  },
  {
   "cell_type": "code",
   "execution_count": 4,
   "id": "d6b1de97",
   "metadata": {},
   "outputs": [
    {
     "name": "stdout",
     "output_type": "stream",
     "text": [
      "<class 'pandas.core.frame.DataFrame'>\n",
      "RangeIndex: 74 entries, 0 to 73\n",
      "Data columns (total 20 columns):\n",
      " #   Column               Non-Null Count  Dtype \n",
      "---  ------               --------------  ----- \n",
      " 0   match_id             74 non-null     int64 \n",
      " 1   date                 74 non-null     object\n",
      " 2   venue                74 non-null     object\n",
      " 3   team1                74 non-null     object\n",
      " 4   team2                74 non-null     object\n",
      " 5   stage                74 non-null     object\n",
      " 6   toss_winner          74 non-null     object\n",
      " 7   toss_decision        74 non-null     object\n",
      " 8   first_ings_score     74 non-null     int64 \n",
      " 9   first_ings_wkts      74 non-null     int64 \n",
      " 10  second_ings_score    74 non-null     int64 \n",
      " 11  second_ings_wkts     74 non-null     int64 \n",
      " 12  match_winner         74 non-null     object\n",
      " 13  won_by               74 non-null     object\n",
      " 14  margin               74 non-null     int64 \n",
      " 15  player_of_the_match  74 non-null     object\n",
      " 16  top_scorer           74 non-null     object\n",
      " 17  highscore            74 non-null     int64 \n",
      " 18  best_bowling         74 non-null     object\n",
      " 19  best_bowling_figure  74 non-null     object\n",
      "dtypes: int64(7), object(13)\n",
      "memory usage: 11.7+ KB\n"
     ]
    }
   ],
   "source": [
    "df.info()"
   ]
  },
  {
   "cell_type": "markdown",
   "id": "494d5900",
   "metadata": {},
   "source": [
    "### Summary Statistics (df.describe())\n",
    "Here,I generated summary statistics for the numeric columns in the DataFrame using the `describe()` method."
   ]
  },
  {
   "cell_type": "code",
   "execution_count": 5,
   "id": "7ade9663",
   "metadata": {
    "scrolled": false
   },
   "outputs": [
    {
     "data": {
      "text/html": [
       "<div>\n",
       "<style scoped>\n",
       "    .dataframe tbody tr th:only-of-type {\n",
       "        vertical-align: middle;\n",
       "    }\n",
       "\n",
       "    .dataframe tbody tr th {\n",
       "        vertical-align: top;\n",
       "    }\n",
       "\n",
       "    .dataframe thead th {\n",
       "        text-align: right;\n",
       "    }\n",
       "</style>\n",
       "<table border=\"1\" class=\"dataframe\">\n",
       "  <thead>\n",
       "    <tr style=\"text-align: right;\">\n",
       "      <th></th>\n",
       "      <th>match_id</th>\n",
       "      <th>first_ings_score</th>\n",
       "      <th>first_ings_wkts</th>\n",
       "      <th>second_ings_score</th>\n",
       "      <th>second_ings_wkts</th>\n",
       "      <th>margin</th>\n",
       "      <th>highscore</th>\n",
       "    </tr>\n",
       "  </thead>\n",
       "  <tbody>\n",
       "    <tr>\n",
       "      <th>count</th>\n",
       "      <td>74.000000</td>\n",
       "      <td>74.000000</td>\n",
       "      <td>74.000000</td>\n",
       "      <td>74.000000</td>\n",
       "      <td>74.000000</td>\n",
       "      <td>74.000000</td>\n",
       "      <td>74.000000</td>\n",
       "    </tr>\n",
       "    <tr>\n",
       "      <th>mean</th>\n",
       "      <td>37.500000</td>\n",
       "      <td>171.121622</td>\n",
       "      <td>6.135135</td>\n",
       "      <td>158.540541</td>\n",
       "      <td>6.175676</td>\n",
       "      <td>16.972973</td>\n",
       "      <td>71.716216</td>\n",
       "    </tr>\n",
       "    <tr>\n",
       "      <th>std</th>\n",
       "      <td>21.505813</td>\n",
       "      <td>29.048355</td>\n",
       "      <td>2.222699</td>\n",
       "      <td>29.299207</td>\n",
       "      <td>2.639832</td>\n",
       "      <td>19.651047</td>\n",
       "      <td>20.705052</td>\n",
       "    </tr>\n",
       "    <tr>\n",
       "      <th>min</th>\n",
       "      <td>1.000000</td>\n",
       "      <td>68.000000</td>\n",
       "      <td>0.000000</td>\n",
       "      <td>72.000000</td>\n",
       "      <td>1.000000</td>\n",
       "      <td>2.000000</td>\n",
       "      <td>28.000000</td>\n",
       "    </tr>\n",
       "    <tr>\n",
       "      <th>25%</th>\n",
       "      <td>19.250000</td>\n",
       "      <td>154.250000</td>\n",
       "      <td>5.000000</td>\n",
       "      <td>142.750000</td>\n",
       "      <td>4.000000</td>\n",
       "      <td>5.250000</td>\n",
       "      <td>57.000000</td>\n",
       "    </tr>\n",
       "    <tr>\n",
       "      <th>50%</th>\n",
       "      <td>37.500000</td>\n",
       "      <td>169.500000</td>\n",
       "      <td>6.000000</td>\n",
       "      <td>160.000000</td>\n",
       "      <td>6.000000</td>\n",
       "      <td>8.000000</td>\n",
       "      <td>68.000000</td>\n",
       "    </tr>\n",
       "    <tr>\n",
       "      <th>75%</th>\n",
       "      <td>55.750000</td>\n",
       "      <td>192.750000</td>\n",
       "      <td>8.000000</td>\n",
       "      <td>176.000000</td>\n",
       "      <td>8.000000</td>\n",
       "      <td>18.000000</td>\n",
       "      <td>87.750000</td>\n",
       "    </tr>\n",
       "    <tr>\n",
       "      <th>max</th>\n",
       "      <td>74.000000</td>\n",
       "      <td>222.000000</td>\n",
       "      <td>10.000000</td>\n",
       "      <td>211.000000</td>\n",
       "      <td>10.000000</td>\n",
       "      <td>91.000000</td>\n",
       "      <td>140.000000</td>\n",
       "    </tr>\n",
       "  </tbody>\n",
       "</table>\n",
       "</div>"
      ],
      "text/plain": [
       "        match_id  first_ings_score  first_ings_wkts  second_ings_score  \\\n",
       "count  74.000000         74.000000        74.000000          74.000000   \n",
       "mean   37.500000        171.121622         6.135135         158.540541   \n",
       "std    21.505813         29.048355         2.222699          29.299207   \n",
       "min     1.000000         68.000000         0.000000          72.000000   \n",
       "25%    19.250000        154.250000         5.000000         142.750000   \n",
       "50%    37.500000        169.500000         6.000000         160.000000   \n",
       "75%    55.750000        192.750000         8.000000         176.000000   \n",
       "max    74.000000        222.000000        10.000000         211.000000   \n",
       "\n",
       "       second_ings_wkts     margin   highscore  \n",
       "count         74.000000  74.000000   74.000000  \n",
       "mean           6.175676  16.972973   71.716216  \n",
       "std            2.639832  19.651047   20.705052  \n",
       "min            1.000000   2.000000   28.000000  \n",
       "25%            4.000000   5.250000   57.000000  \n",
       "50%            6.000000   8.000000   68.000000  \n",
       "75%            8.000000  18.000000   87.750000  \n",
       "max           10.000000  91.000000  140.000000  "
      ]
     },
     "execution_count": 5,
     "metadata": {},
     "output_type": "execute_result"
    }
   ],
   "source": [
    "df.describe()"
   ]
  },
  {
   "cell_type": "code",
   "execution_count": 6,
   "id": "188ea924",
   "metadata": {
    "scrolled": false
   },
   "outputs": [],
   "source": [
    "for entries in df.columns:\n",
    "    if df[entries].isnull().sum() > 0:\n",
    "        print(f\"Column '{entries}' has {df[entries].isnull().sum()} missing values.\")"
   ]
  },
  {
   "cell_type": "markdown",
   "id": "eb18ebf6",
   "metadata": {},
   "source": [
    "# General Overview:\n"
   ]
  },
  {
   "cell_type": "code",
   "execution_count": 7,
   "id": "db999978",
   "metadata": {},
   "outputs": [],
   "source": [
    "ipl_teams_colors = {\n",
    "    \"Chennai\": \"#FFC300\",  # Yellow\n",
    "    \"Delhi\": \"#0070C0\",  # Sky Blue\n",
    "    \"Gujarat\": \"#12A4D9\",  # Teal\n",
    "    \"Kolkata\": \"#5D23A2\",  # Purple\n",
    "    \"Lucknow\": \"#1AB7EA\",  # Turquoise\n",
    "    \"Mumbai\": \"#001B43\",  # Navy Blue\n",
    "    \"Punjab\": \"#DA2C2C\",  # Red\n",
    "    \"Rajasthan\": \"#FFC0CB\",  # Pink\n",
    "    \"Banglore\": \"#9D0000\",  # Red\n",
    "    \"Hyderabad\": \"#F1804F\",  # Orange\n",
    "}\n",
    "\n",
    "c=[\"#b33dc6\",  \"#27aeef\", \"#87bc45\", \"#bdcf32\", \"#ede15b\", \"#edbf33\"]"
   ]
  },
  {
   "cell_type": "markdown",
   "id": "7806772d",
   "metadata": {},
   "source": [
    "### Total number of matches played in IPL 2022?"
   ]
  },
  {
   "cell_type": "code",
   "execution_count": 8,
   "id": "59861947",
   "metadata": {},
   "outputs": [
    {
     "name": "stdout",
     "output_type": "stream",
     "text": [
      "Total Number of matched played is 74\n"
     ]
    }
   ],
   "source": [
    "print(f\"Total Number of matched played is {df['match_id'].max()}\")"
   ]
  },
  {
   "cell_type": "markdown",
   "id": "245a1ee0",
   "metadata": {},
   "source": [
    "### List of Venues where matches was played"
   ]
  },
  {
   "cell_type": "code",
   "execution_count": 9,
   "id": "d5001208",
   "metadata": {},
   "outputs": [
    {
     "name": "stdout",
     "output_type": "stream",
     "text": [
      "Brabourne Stadium, Mumbai\n",
      "Dr DY Patil Sports Academy, Mumbai\n",
      "Eden Gardens, Kolkata\n",
      "Maharashtra Cricket Association Stadium,Pune\n",
      "Narendra Modi Stadium, Ahmedabad\n",
      "Wankhede Stadium, Mumbai\n"
     ]
    }
   ],
   "source": [
    "for entries in sorted(df['venue'].unique()):\n",
    "    print(f\"{entries}\")"
   ]
  },
  {
   "cell_type": "markdown",
   "id": "ab5c9d34",
   "metadata": {},
   "source": [
    "### List of Team Played in IPL 2022"
   ]
  },
  {
   "cell_type": "code",
   "execution_count": 10,
   "id": "64b271a2",
   "metadata": {},
   "outputs": [
    {
     "name": "stdout",
     "output_type": "stream",
     "text": [
      "Banglore\n",
      "Chennai\n",
      "Delhi\n",
      "Gujarat\n",
      "Hyderabad\n",
      "Kolkata\n",
      "Lucknow\n",
      "Mumbai\n",
      "Punjab\n",
      "Rajasthan\n"
     ]
    }
   ],
   "source": [
    "for entries in sorted(df[['team2','team1']].stack().unique()):\n",
    "    print(f\"{entries}\")"
   ]
  },
  {
   "cell_type": "markdown",
   "id": "eb85ba53",
   "metadata": {},
   "source": [
    "### Analysis: Number of Matches Played in Each Venue"
   ]
  },
  {
   "cell_type": "code",
   "execution_count": 11,
   "id": "f803871f",
   "metadata": {
    "scrolled": false
   },
   "outputs": [
    {
     "data": {
      "text/plain": [
       "venue\n",
       "Wankhede Stadium, Mumbai                        21\n",
       "Dr DY Patil Sports Academy, Mumbai              20\n",
       "Brabourne Stadium, Mumbai                       16\n",
       "Maharashtra Cricket Association Stadium,Pune    13\n",
       "Eden Gardens, Kolkata                            2\n",
       "Narendra Modi Stadium, Ahmedabad                 2\n",
       "Name: count, dtype: int64"
      ]
     },
     "execution_count": 11,
     "metadata": {},
     "output_type": "execute_result"
    },
    {
     "data": {
      "image/png": "[encoded data removed]",
      "text/plain": [
       "<Figure size 640x480 with 1 Axes>"
      ]
     },
     "metadata": {},
     "output_type": "display_data"
    }
   ],
   "source": [
    "matchsplayed=df['venue'].value_counts()\n",
    "\n",
    "\n",
    "plt.barh(matchsplayed.index, matchsplayed.values,color=c,edgecolor='black')\n",
    "\n",
    "plt.ylabel('Venue')\n",
    "plt.xlabel('Number of Matches Played')\n",
    "plt.title('Number of Matches Played in Each Venue')\n",
    "matchsplayed\n"
   ]
  },
  {
   "cell_type": "markdown",
   "id": "d1d408b9",
   "metadata": {},
   "source": [
    "### Analysis: Number of Matches Played By Each Team"
   ]
  },
  {
   "cell_type": "code",
   "execution_count": 12,
   "id": "3ef7b88c",
   "metadata": {
    "scrolled": false
   },
   "outputs": [
    {
     "data": {
      "text/plain": [
       "Banglore     16\n",
       "Chennai      14\n",
       "Delhi        14\n",
       "Gujarat      16\n",
       "Hyderabad    14\n",
       "Kolkata      14\n",
       "Lucknow      15\n",
       "Mumbai       14\n",
       "Punjab       14\n",
       "Rajasthan    17\n",
       "Name: count, dtype: int64"
      ]
     },
     "execution_count": 12,
     "metadata": {},
     "output_type": "execute_result"
    },
    {
     "data": {
      "image/png": "[encoded data removed]",
      "text/plain": [
       "<Figure size 1000x500 with 1 Axes>"
      ]
     },
     "metadata": {},
     "output_type": "display_data"
    }
   ],
   "source": [
    "df['match_lost'] = df.apply(lambda row: row['team2'] if row['team1'] == row['match_winner'] else row['team1'], axis=1)\n",
    "matchswon=df['match_winner'].value_counts()\n",
    "matchslost=df['match_lost'].value_counts()\n",
    "plt.figure(figsize=(10, 5))\n",
    "TotalMatchPlayed=matchswon+matchslost\n",
    "colors=[ipl_teams_colors[team] for team in matchswon.index]\n",
    "plt.bar( TotalMatchPlayed.index,TotalMatchPlayed.values,color=colors)\n",
    "plt.ylabel('Team')\n",
    "plt.xlabel('Number of Matches Played')\n",
    "plt.title('Number of Matches Played By Each Team')\n",
    "TotalMatchPlayed"
   ]
  },
  {
   "cell_type": "markdown",
   "id": "a349de7f",
   "metadata": {},
   "source": [
    "# Toss Analysis"
   ]
  },
  {
   "cell_type": "markdown",
   "id": "8878c62e",
   "metadata": {},
   "source": [
    "### Percentage of teams chose to bat first after winning the toss"
   ]
  },
  {
   "cell_type": "code",
   "execution_count": 51,
   "id": "e89e8ad7",
   "metadata": {},
   "outputs": [
    {
     "data": {
      "image/png": "[encoded data removed]",
      "text/plain": [
       "<Figure size 640x480 with 1 Axes>"
      ]
     },
     "metadata": {},
     "output_type": "display_data"
    }
   ],
   "source": [
    "tossdecision=df['toss_decision'].value_counts()\n",
    "explode=[0,0.08]\n",
    "color=[\"#008080\",\"#ff6f61\"]\n",
    "plt.pie(tossdecision.values,labels=tossdecision.index,startangle=270,autopct='%1.1f%%',explode=explode,colors=color)\n",
    "plt.show()"
   ]
  },
  {
   "cell_type": "markdown",
   "id": "0ee59616",
   "metadata": {},
   "source": [
    "### Analysis: Toss Won by Each Team"
   ]
  },
  {
   "cell_type": "code",
   "execution_count": 14,
   "id": "ab237382",
   "metadata": {
    "scrolled": false
   },
   "outputs": [
    {
     "data": {
      "text/html": [
       "<div>\n",
       "<style scoped>\n",
       "    .dataframe tbody tr th:only-of-type {\n",
       "        vertical-align: middle;\n",
       "    }\n",
       "\n",
       "    .dataframe tbody tr th {\n",
       "        vertical-align: top;\n",
       "    }\n",
       "\n",
       "    .dataframe thead th {\n",
       "        text-align: right;\n",
       "    }\n",
       "</style>\n",
       "<table border=\"1\" class=\"dataframe\">\n",
       "  <thead>\n",
       "    <tr style=\"text-align: right;\">\n",
       "      <th></th>\n",
       "      <th>count</th>\n",
       "    </tr>\n",
       "    <tr>\n",
       "      <th>toss_winner</th>\n",
       "      <th></th>\n",
       "    </tr>\n",
       "  </thead>\n",
       "  <tbody>\n",
       "    <tr>\n",
       "      <th>Gujarat</th>\n",
       "      <td>10</td>\n",
       "    </tr>\n",
       "    <tr>\n",
       "      <th>Hyderabad</th>\n",
       "      <td>10</td>\n",
       "    </tr>\n",
       "    <tr>\n",
       "      <th>Mumbai</th>\n",
       "      <td>9</td>\n",
       "    </tr>\n",
       "    <tr>\n",
       "      <th>Kolkata</th>\n",
       "      <td>8</td>\n",
       "    </tr>\n",
       "    <tr>\n",
       "      <th>Delhi</th>\n",
       "      <td>8</td>\n",
       "    </tr>\n",
       "    <tr>\n",
       "      <th>Banglore</th>\n",
       "      <td>8</td>\n",
       "    </tr>\n",
       "    <tr>\n",
       "      <th>Lucknow</th>\n",
       "      <td>7</td>\n",
       "    </tr>\n",
       "    <tr>\n",
       "      <th>Chennai</th>\n",
       "      <td>6</td>\n",
       "    </tr>\n",
       "    <tr>\n",
       "      <th>Punjab</th>\n",
       "      <td>4</td>\n",
       "    </tr>\n",
       "    <tr>\n",
       "      <th>Rajasthan</th>\n",
       "      <td>4</td>\n",
       "    </tr>\n",
       "  </tbody>\n",
       "</table>\n",
       "</div>"
      ],
      "text/plain": [
       "             count\n",
       "toss_winner       \n",
       "Gujarat         10\n",
       "Hyderabad       10\n",
       "Mumbai           9\n",
       "Kolkata          8\n",
       "Delhi            8\n",
       "Banglore         8\n",
       "Lucknow          7\n",
       "Chennai          6\n",
       "Punjab           4\n",
       "Rajasthan        4"
      ]
     },
     "metadata": {},
     "output_type": "display_data"
    },
    {
     "data": {
      "image/png": "[encoded data removed]",
      "text/plain": [
       "<Figure size 1000x500 with 1 Axes>"
      ]
     },
     "metadata": {},
     "output_type": "display_data"
    }
   ],
   "source": [
    "ipl_df=df.copy()\n",
    "tosswoncount=ipl_df['toss_winner'].value_counts()\n",
    "colors=[ipl_teams_colors[team] for team in tosswoncount.index]\n",
    "plt.figure(figsize=(10, 5))\n",
    "plt.bar( tosswoncount.index,tosswoncount.values,color=colors)\n",
    "plt.xlabel('Team')\n",
    "plt.ylabel('Number of toss won')\n",
    "plt.title('Number of Toss won By Each Team')\n",
    "display(tosswoncount.to_frame())"
   ]
  },
  {
   "cell_type": "markdown",
   "id": "b154ec5a",
   "metadata": {},
   "source": [
    "### Analysis: Tosses vs Matches in IPL Teams"
   ]
  },
  {
   "cell_type": "code",
   "execution_count": 59,
   "id": "f54503cc",
   "metadata": {
    "scrolled": false
   },
   "outputs": [
    {
     "data": {
      "image/png": "[encoded data removed]",
      "text/plain": [
       "<Figure size 1000x600 with 1 Axes>"
      ]
     },
     "metadata": {},
     "output_type": "display_data"
    }
   ],
   "source": [
    "\n",
    "\n",
    "plt.figure(figsize=(10, 6))\n",
    "bar_width = 0.35\n",
    "\n",
    "# Create numerical indices for the bar graph\n",
    "indices = np.arange(len(merged_df))\n",
    "\n",
    "# Create a bar graph with two values\n",
    "\n",
    "plt.bar(indices + bar_width/2, merged_df['Total_Match_won'].astype(float), bar_width, color='lightblue', label='Matches Won')\n",
    "plt.bar(indices - bar_width/2, merged_df['Total_Toss_won'].astype(float), bar_width, color='orange', label='Toss Wins')\n",
    "\n",
    "# Add labels and title\n",
    "plt.xlabel('Teams')\n",
    "plt.ylabel('Counts')\n",
    "plt.title('Toss Wins and Matches Won by Each Team')\n",
    "\n",
    "# Set x-axis ticks and labels\n",
    "plt.xticks(indices, merged_df.index)\n",
    "\n",
    "# Show legend\n",
    "plt.legend()\n",
    "\n",
    "# Show the plot\n",
    "plt.show()\n"
   ]
  },
  {
   "cell_type": "markdown",
   "id": "140300c3",
   "metadata": {},
   "source": [
    "### Analysis: Matches Won by Teams Winning the Toss at Each Stadium\n"
   ]
  },
  {
   "cell_type": "code",
   "execution_count": 15,
   "id": "68264d13",
   "metadata": {},
   "outputs": [
    {
     "data": {
      "text/html": [
       "<div>\n",
       "<style scoped>\n",
       "    .dataframe tbody tr th:only-of-type {\n",
       "        vertical-align: middle;\n",
       "    }\n",
       "\n",
       "    .dataframe tbody tr th {\n",
       "        vertical-align: top;\n",
       "    }\n",
       "\n",
       "    .dataframe thead th {\n",
       "        text-align: right;\n",
       "    }\n",
       "</style>\n",
       "<table border=\"1\" class=\"dataframe\">\n",
       "  <thead>\n",
       "    <tr style=\"text-align: right;\">\n",
       "      <th></th>\n",
       "      <th>count</th>\n",
       "    </tr>\n",
       "    <tr>\n",
       "      <th>venue</th>\n",
       "      <th></th>\n",
       "    </tr>\n",
       "  </thead>\n",
       "  <tbody>\n",
       "    <tr>\n",
       "      <th>Wankhede Stadium, Mumbai</th>\n",
       "      <td>11</td>\n",
       "    </tr>\n",
       "    <tr>\n",
       "      <th>Dr DY Patil Sports Academy, Mumbai</th>\n",
       "      <td>11</td>\n",
       "    </tr>\n",
       "    <tr>\n",
       "      <th>Brabourne Stadium, Mumbai</th>\n",
       "      <td>7</td>\n",
       "    </tr>\n",
       "    <tr>\n",
       "      <th>Maharashtra Cricket Association Stadium,Pune</th>\n",
       "      <td>5</td>\n",
       "    </tr>\n",
       "    <tr>\n",
       "      <th>Eden Gardens, Kolkata</th>\n",
       "      <td>1</td>\n",
       "    </tr>\n",
       "    <tr>\n",
       "      <th>Narendra Modi Stadium, Ahmedabad</th>\n",
       "      <td>1</td>\n",
       "    </tr>\n",
       "  </tbody>\n",
       "</table>\n",
       "</div>"
      ],
      "text/plain": [
       "                                              count\n",
       "venue                                              \n",
       "Wankhede Stadium, Mumbai                         11\n",
       "Dr DY Patil Sports Academy, Mumbai               11\n",
       "Brabourne Stadium, Mumbai                         7\n",
       "Maharashtra Cricket Association Stadium,Pune      5\n",
       "Eden Gardens, Kolkata                             1\n",
       "Narendra Modi Stadium, Ahmedabad                  1"
      ]
     },
     "execution_count": 15,
     "metadata": {},
     "output_type": "execute_result"
    },
    {
     "data": {
      "image/png": "[encoded data removed]",
      "text/plain": [
       "<Figure size 640x480 with 1 Axes>"
      ]
     },
     "metadata": {},
     "output_type": "display_data"
    }
   ],
   "source": [
    "iplvenue_df=df[['venue','toss_winner','match_winner']].copy()\n",
    "iplvenue_df['Toss_and_winner_count']=(ipl_df['toss_winner']==ipl_df['match_winner']).astype(int)\n",
    "venue_tossandmatchwon=iplvenue_df[iplvenue_df['Toss_and_winner_count'] == 1]\n",
    "venue_tossandmatchwon=venue_tossandmatchwon['venue'].value_counts()\n",
    "\n",
    "\n",
    "plt.barh( venue_tossandmatchwon.index,venue_tossandmatchwon.values,color=c)\n",
    "plt.ylabel('Stadium')\n",
    "plt.xlabel('Total Number of Toss Wins and Both Toss and Match Victories')\n",
    "plt.title('Performance Metrics: Stadiums, Matches, and Tosses')\n",
    "venue_tossandmatchwon.to_frame()\n",
    "\n"
   ]
  },
  {
   "cell_type": "markdown",
   "id": "7948a38f",
   "metadata": {},
   "source": [
    "### Correlation Between the Total Number of Toss Wins and Both Toss and Match Victories"
   ]
  },
  {
   "cell_type": "code",
   "execution_count": 58,
   "id": "7005f5cf",
   "metadata": {
    "scrolled": false
   },
   "outputs": [
    {
     "data": {
      "text/html": [
       "<div>\n",
       "<style scoped>\n",
       "    .dataframe tbody tr th:only-of-type {\n",
       "        vertical-align: middle;\n",
       "    }\n",
       "\n",
       "    .dataframe tbody tr th {\n",
       "        vertical-align: top;\n",
       "    }\n",
       "\n",
       "    .dataframe thead th {\n",
       "        text-align: right;\n",
       "    }\n",
       "</style>\n",
       "<table border=\"1\" class=\"dataframe\">\n",
       "  <thead>\n",
       "    <tr style=\"text-align: right;\">\n",
       "      <th></th>\n",
       "      <th>Total_Toss_won</th>\n",
       "      <th>Total_Toss_and_Match_Won</th>\n",
       "      <th>Total_Match_won</th>\n",
       "      <th>Total_Toss_and_Match_lost</th>\n",
       "    </tr>\n",
       "  </thead>\n",
       "  <tbody>\n",
       "    <tr>\n",
       "      <th>Gujarat</th>\n",
       "      <td>10</td>\n",
       "      <td>7</td>\n",
       "      <td>12</td>\n",
       "      <td>3</td>\n",
       "    </tr>\n",
       "    <tr>\n",
       "      <th>Hyderabad</th>\n",
       "      <td>10</td>\n",
       "      <td>5</td>\n",
       "      <td>6</td>\n",
       "      <td>5</td>\n",
       "    </tr>\n",
       "    <tr>\n",
       "      <th>Mumbai</th>\n",
       "      <td>9</td>\n",
       "      <td>3</td>\n",
       "      <td>4</td>\n",
       "      <td>6</td>\n",
       "    </tr>\n",
       "    <tr>\n",
       "      <th>Kolkata</th>\n",
       "      <td>8</td>\n",
       "      <td>5</td>\n",
       "      <td>6</td>\n",
       "      <td>3</td>\n",
       "    </tr>\n",
       "    <tr>\n",
       "      <th>Delhi</th>\n",
       "      <td>8</td>\n",
       "      <td>4</td>\n",
       "      <td>7</td>\n",
       "      <td>4</td>\n",
       "    </tr>\n",
       "    <tr>\n",
       "      <th>Banglore</th>\n",
       "      <td>8</td>\n",
       "      <td>4</td>\n",
       "      <td>9</td>\n",
       "      <td>4</td>\n",
       "    </tr>\n",
       "    <tr>\n",
       "      <th>Lucknow</th>\n",
       "      <td>7</td>\n",
       "      <td>4</td>\n",
       "      <td>9</td>\n",
       "      <td>3</td>\n",
       "    </tr>\n",
       "    <tr>\n",
       "      <th>Chennai</th>\n",
       "      <td>6</td>\n",
       "      <td>1</td>\n",
       "      <td>4</td>\n",
       "      <td>5</td>\n",
       "    </tr>\n",
       "    <tr>\n",
       "      <th>Punjab</th>\n",
       "      <td>4</td>\n",
       "      <td>1</td>\n",
       "      <td>7</td>\n",
       "      <td>3</td>\n",
       "    </tr>\n",
       "    <tr>\n",
       "      <th>Rajasthan</th>\n",
       "      <td>4</td>\n",
       "      <td>2</td>\n",
       "      <td>10</td>\n",
       "      <td>2</td>\n",
       "    </tr>\n",
       "  </tbody>\n",
       "</table>\n",
       "</div>"
      ],
      "text/plain": [
       "           Total_Toss_won  Total_Toss_and_Match_Won  Total_Match_won  \\\n",
       "Gujarat                10                         7               12   \n",
       "Hyderabad              10                         5                6   \n",
       "Mumbai                  9                         3                4   \n",
       "Kolkata                 8                         5                6   \n",
       "Delhi                   8                         4                7   \n",
       "Banglore                8                         4                9   \n",
       "Lucknow                 7                         4                9   \n",
       "Chennai                 6                         1                4   \n",
       "Punjab                  4                         1                7   \n",
       "Rajasthan               4                         2               10   \n",
       "\n",
       "           Total_Toss_and_Match_lost  \n",
       "Gujarat                            3  \n",
       "Hyderabad                          5  \n",
       "Mumbai                             6  \n",
       "Kolkata                            3  \n",
       "Delhi                              4  \n",
       "Banglore                           4  \n",
       "Lucknow                            3  \n",
       "Chennai                            5  \n",
       "Punjab                             3  \n",
       "Rajasthan                          2  "
      ]
     },
     "execution_count": 58,
     "metadata": {},
     "output_type": "execute_result"
    }
   ],
   "source": [
    "ipltoss_df=df[['venue','toss_winner','match_winner']].copy()\n",
    "\n",
    "ipltoss_df['Toss_and_winner_count']=(ipl_df['toss_winner']==ipl_df['match_winner']).astype(int)\n",
    "tossandmatchwon=ipltoss_df[ipltoss_df['Toss_and_winner_count'] == 1]\n",
    "tossandmatchwoncount=tossandmatchwon['toss_winner'].value_counts()\n",
    "tossandmatchwoncount.to_frame()\n",
    "merged_df = pd.merge(tosswoncount, tossandmatchwoncount, on='toss_winner')\n",
    "merged_df = merged_df.merge(matchswon.to_frame(), left_index=True, right_index=True)\n",
    "merged_df.rename(columns={'count_x':'Total_Toss_won','count_y':'Total_Toss_and_Match_Won', \\\n",
    "                          'count':'Total_Match_won'}, inplace=True)\n",
    "merged_df['Total_Toss_and_Match_lost']=merged_df['Total_Toss_won']-merged_df['Total_Toss_and_Match_Won']\n",
    "\n",
    "merged_df"
   ]
  },
  {
   "cell_type": "code",
   "execution_count": 17,
   "id": "8a226cc1",
   "metadata": {},
   "outputs": [
    {
     "name": "stdout",
     "output_type": "stream",
     "text": [
      "Correlation Between the Total Number of Toss Wins and Both Toss and Match Victories is 0.83\n"
     ]
    }
   ],
   "source": [
    "correlationofwinning = merged_df['Total_Toss_won'].corr(merged_df['Total_Toss_and_Match_Won'])\n",
    "print(f\"Correlation Between the Total Number of Toss Wins and Both Toss and Match Victories is {correlationofwinning:.2f}\")"
   ]
  }
 ],
 "metadata": {
  "kernelspec": {
   "display_name": "Python 3 (ipykernel)",
   "language": "python",
   "name": "python3"
  },
  "language_info": {
   "codemirror_mode": {
    "name": "ipython",
    "version": 3
   },
   "file_extension": ".py",
   "mimetype": "text/x-python",
   "name": "python",
   "nbconvert_exporter": "python",
   "pygments_lexer": "ipython3",
   "version": "3.11.5"
  }
 },
 "nbformat": 4,
 "nbformat_minor": 5
}
